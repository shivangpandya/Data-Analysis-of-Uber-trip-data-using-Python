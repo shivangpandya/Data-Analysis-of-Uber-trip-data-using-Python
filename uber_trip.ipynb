{
  "nbformat": 4,
  "nbformat_minor": 0,
  "metadata": {
    "colab": {
      "name": "uber_trip.ipynb",
      "version": "0.3.2",
      "provenance": [],
      "include_colab_link": true
    },
    "kernelspec": {
      "name": "python3",
      "display_name": "Python 3"
    }
  },
  "cells": [
    {
      "cell_type": "markdown",
      "metadata": {
        "id": "view-in-github",
        "colab_type": "text"
      },
      "source": [
        "[View in Colaboratory](https://colab.research.google.com/github/shivangpandya/Data-Analysis-of-Uber-trip-data-using-Python/blob/master/uber_trip.ipynb)"
      ]
    },
    {
      "metadata": {
        "id": "L9C6Iu7CZu0r",
        "colab_type": "code",
        "colab": {
          "base_uri": "https://localhost:8080/",
          "height": 34
        },
        "outputId": "7847bdb9-e11f-41c3-c7ef-8090bc46c6f3"
      },
      "cell_type": "code",
      "source": [
        "%pylab inline\n",
        "import pandas\n",
        "import seaborn"
      ],
      "execution_count": 1,
      "outputs": [
        {
          "output_type": "stream",
          "text": [
            "Populating the interactive namespace from numpy and matplotlib\n"
          ],
          "name": "stdout"
        }
      ]
    },
    {
      "metadata": {
        "id": "KwsZaJggaGBK",
        "colab_type": "text"
      },
      "cell_type": "markdown",
      "source": [
        "# **Load CSV File into memory**"
      ]
    },
    {
      "metadata": {
        "id": "XZwE6bZAaSfx",
        "colab_type": "code",
        "colab": {}
      },
      "cell_type": "code",
      "source": [
        "data = pandas.read_csv('Desktop/uber-raw-data-apr14.csv')"
      ],
      "execution_count": 0,
      "outputs": []
    }
  ]
}